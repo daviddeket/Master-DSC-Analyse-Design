{
 "cells": [
  {
   "cell_type": "markdown",
   "source": [],
   "metadata": {
    "collapsed": false,
    "pycharm": {
     "name": "#%% md\n"
    }
   }
  },
  {
   "cell_type": "code",
   "execution_count": 88,
   "outputs": [],
   "source": [
    "import pandas as pd\n",
    "import scipy.stats as stats\n",
    "# if outputs not displayed, use the following link: https://github.com/daviddeket/Master-DSC-Analyse-Design/blob/master/HUE1.ipynb"
   ],
   "metadata": {
    "collapsed": false,
    "pycharm": {
     "name": "#%%\n"
    }
   }
  },
  {
   "cell_type": "code",
   "execution_count": 89,
   "outputs": [
    {
     "data": {
      "text/plain": "        day       date       time operator branch     driver  temperature  \\\n0  Thursday  01-May-14  35.128367    Laura   East      Bruno    68.287716   \n1  Thursday  01-May-14  25.203074  Melissa   East  Salvatore    70.997791   \n2  Thursday  01-May-14  45.643404  Melissa   West  Salvatore    53.394145   \n3  Thursday  01-May-14  29.374298  Melissa   East  Salvatore    70.306596   \n4  Thursday  01-May-14  29.994610  Melissa   West  Salvatore    71.501688   \n\n   bill  pizzas  free_wine  got_wine  discount_customer  \n0  58.4       4          0         0                  1  \n1  26.4       2          0         0                  0  \n2  58.1       3          1         0                  0  \n3  35.2       3          0         0                  0  \n4  38.4       2          0         0                  0  ",
      "text/html": "<div>\n<style scoped>\n    .dataframe tbody tr th:only-of-type {\n        vertical-align: middle;\n    }\n\n    .dataframe tbody tr th {\n        vertical-align: top;\n    }\n\n    .dataframe thead th {\n        text-align: right;\n    }\n</style>\n<table border=\"1\" class=\"dataframe\">\n  <thead>\n    <tr style=\"text-align: right;\">\n      <th></th>\n      <th>day</th>\n      <th>date</th>\n      <th>time</th>\n      <th>operator</th>\n      <th>branch</th>\n      <th>driver</th>\n      <th>temperature</th>\n      <th>bill</th>\n      <th>pizzas</th>\n      <th>free_wine</th>\n      <th>got_wine</th>\n      <th>discount_customer</th>\n    </tr>\n  </thead>\n  <tbody>\n    <tr>\n      <th>0</th>\n      <td>Thursday</td>\n      <td>01-May-14</td>\n      <td>35.128367</td>\n      <td>Laura</td>\n      <td>East</td>\n      <td>Bruno</td>\n      <td>68.287716</td>\n      <td>58.4</td>\n      <td>4</td>\n      <td>0</td>\n      <td>0</td>\n      <td>1</td>\n    </tr>\n    <tr>\n      <th>1</th>\n      <td>Thursday</td>\n      <td>01-May-14</td>\n      <td>25.203074</td>\n      <td>Melissa</td>\n      <td>East</td>\n      <td>Salvatore</td>\n      <td>70.997791</td>\n      <td>26.4</td>\n      <td>2</td>\n      <td>0</td>\n      <td>0</td>\n      <td>0</td>\n    </tr>\n    <tr>\n      <th>2</th>\n      <td>Thursday</td>\n      <td>01-May-14</td>\n      <td>45.643404</td>\n      <td>Melissa</td>\n      <td>West</td>\n      <td>Salvatore</td>\n      <td>53.394145</td>\n      <td>58.1</td>\n      <td>3</td>\n      <td>1</td>\n      <td>0</td>\n      <td>0</td>\n    </tr>\n    <tr>\n      <th>3</th>\n      <td>Thursday</td>\n      <td>01-May-14</td>\n      <td>29.374298</td>\n      <td>Melissa</td>\n      <td>East</td>\n      <td>Salvatore</td>\n      <td>70.306596</td>\n      <td>35.2</td>\n      <td>3</td>\n      <td>0</td>\n      <td>0</td>\n      <td>0</td>\n    </tr>\n    <tr>\n      <th>4</th>\n      <td>Thursday</td>\n      <td>01-May-14</td>\n      <td>29.994610</td>\n      <td>Melissa</td>\n      <td>West</td>\n      <td>Salvatore</td>\n      <td>71.501688</td>\n      <td>38.4</td>\n      <td>2</td>\n      <td>0</td>\n      <td>0</td>\n      <td>0</td>\n    </tr>\n  </tbody>\n</table>\n</div>"
     },
     "execution_count": 89,
     "metadata": {},
     "output_type": "execute_result"
    }
   ],
   "source": [
    "# read in pizza_delivery.csv into pandas data frame\n",
    "df = pd.read_csv('pizza_delivery.csv')\n",
    "df.head()"
   ],
   "metadata": {
    "collapsed": false,
    "pycharm": {
     "name": "#%%\n"
    }
   }
  },
  {
   "cell_type": "code",
   "execution_count": 90,
   "outputs": [
    {
     "data": {
      "text/plain": "day                  0\ndate                 0\ntime                 0\noperator             0\nbranch               0\ndriver               0\ntemperature          0\nbill                 0\npizzas               0\nfree_wine            0\ngot_wine             0\ndiscount_customer    0\ndtype: int64"
     },
     "execution_count": 90,
     "metadata": {},
     "output_type": "execute_result"
    }
   ],
   "source": [
    "# show number of empty values in each column\n",
    "df.isnull().sum()"
   ],
   "metadata": {
    "collapsed": false,
    "pycharm": {
     "name": "#%%\n"
    }
   }
  },
  {
   "cell_type": "code",
   "execution_count": 91,
   "outputs": [
    {
     "data": {
      "text/plain": "0"
     },
     "execution_count": 91,
     "metadata": {},
     "output_type": "execute_result"
    }
   ],
   "source": [
    "# check if duplicated of rows exist\n",
    "df.duplicated().sum()"
   ],
   "metadata": {
    "collapsed": false,
    "pycharm": {
     "name": "#%%\n"
    }
   }
  },
  {
   "cell_type": "code",
   "execution_count": 92,
   "outputs": [
    {
     "data": {
      "text/plain": "West      435\nCentre    421\nEast      410\nName: branch, dtype: int64"
     },
     "execution_count": 92,
     "metadata": {},
     "output_type": "execute_result"
    }
   ],
   "source": [
    "# create table of absolute frequencies of branches\n",
    "branch_freq = df['branch'].value_counts()\n",
    "branch_freq"
   ],
   "metadata": {
    "collapsed": false,
    "pycharm": {
     "name": "#%%\n"
    }
   }
  },
  {
   "cell_type": "code",
   "execution_count": 93,
   "outputs": [
    {
     "data": {
      "text/plain": "West      0.343602\nCentre    0.332543\nEast      0.323855\nName: branch, dtype: float64"
     },
     "execution_count": 93,
     "metadata": {},
     "output_type": "execute_result"
    }
   ],
   "source": [
    "# create table of relative frequencies of branches\n",
    "branch_freq_rel = df['branch'].value_counts(normalize=True)\n",
    "branch_freq_rel"
   ],
   "metadata": {
    "collapsed": false,
    "pycharm": {
     "name": "#%%\n"
    }
   }
  },
  {
   "cell_type": "code",
   "execution_count": 94,
   "outputs": [
    {
     "data": {
      "text/plain": "<AxesSubplot:>"
     },
     "execution_count": 94,
     "metadata": {},
     "output_type": "execute_result"
    },
    {
     "data": {
      "text/plain": "<Figure size 432x288 with 1 Axes>",
      "image/png": "[encoded data removed]"
     },
     "metadata": {
      "needs_background": "light"
     },
     "output_type": "display_data"
    }
   ],
   "source": [
    "# create bar graph from frequency of operators\n",
    "branch_freq.plot.bar()"
   ],
   "metadata": {
    "collapsed": false,
    "pycharm": {
     "name": "#%%\n"
    }
   }
  },
  {
   "cell_type": "code",
   "execution_count": 95,
   "outputs": [
    {
     "data": {
      "text/plain": "<AxesSubplot:>"
     },
     "execution_count": 95,
     "metadata": {},
     "output_type": "execute_result"
    },
    {
     "data": {
      "text/plain": "<Figure size 432x288 with 1 Axes>",
      "image/png": "[encoded data removed]"
     },
     "metadata": {
      "needs_background": "light"
     },
     "output_type": "display_data"
    }
   ],
   "source": [
    "# create bar graph from relative frequency of operators\n",
    "branch_freq_rel.plot.bar()"
   ],
   "metadata": {
    "collapsed": false,
    "pycharm": {
     "name": "#%%\n"
    }
   }
  },
  {
   "cell_type": "code",
   "execution_count": 96,
   "outputs": [
    {
     "data": {
      "text/plain": "<AxesSubplot:>"
     },
     "execution_count": 96,
     "metadata": {},
     "output_type": "execute_result"
    },
    {
     "data": {
      "text/plain": "<Figure size 432x288 with 1 Axes>",
      "image/png": "[encoded data removed]"
     },
     "metadata": {
      "needs_background": "light"
     },
     "output_type": "display_data"
    }
   ],
   "source": [
    "# create histogram of time to delivery\n",
    "df['time'].hist()"
   ],
   "metadata": {
    "collapsed": false,
    "pycharm": {
     "name": "#%%\n"
    }
   }
  },
  {
   "cell_type": "code",
   "execution_count": 97,
   "outputs": [
    {
     "data": {
      "text/plain": "              time  temperature         bill       pizzas    free_wine  \\\ncount  1266.000000  1266.000000  1266.000000  1266.000000  1266.000000   \nmean     34.229551    62.863950    42.755924     3.013428     0.180885   \nstd       6.461478     6.905708    11.222918     1.467102     0.385075   \nmin      12.266028    41.758718     9.100000     1.000000     0.000000   \n25%      30.061151    58.242364    35.500000     2.000000     0.000000   \n50%      34.381964    62.926657    42.900000     3.000000     0.000000   \n75%      38.577021    67.228628    50.500000     4.000000     0.000000   \nmax      53.096264    87.582422    75.000000    11.000000     1.000000   \n\n          got_wine  discount_customer  \ncount  1266.000000        1266.000000  \nmean      0.148499           0.218009  \nstd       0.355735           0.413057  \nmin       0.000000           0.000000  \n25%       0.000000           0.000000  \n50%       0.000000           0.000000  \n75%       0.000000           0.000000  \nmax       1.000000           1.000000  ",
      "text/html": "<div>\n<style scoped>\n    .dataframe tbody tr th:only-of-type {\n        vertical-align: middle;\n    }\n\n    .dataframe tbody tr th {\n        vertical-align: top;\n    }\n\n    .dataframe thead th {\n        text-align: right;\n    }\n</style>\n<table border=\"1\" class=\"dataframe\">\n  <thead>\n    <tr style=\"text-align: right;\">\n      <th></th>\n      <th>time</th>\n      <th>temperature</th>\n      <th>bill</th>\n      <th>pizzas</th>\n      <th>free_wine</th>\n      <th>got_wine</th>\n      <th>discount_customer</th>\n    </tr>\n  </thead>\n  <tbody>\n    <tr>\n      <th>count</th>\n      <td>1266.000000</td>\n      <td>1266.000000</td>\n      <td>1266.000000</td>\n      <td>1266.000000</td>\n      <td>1266.000000</td>\n      <td>1266.000000</td>\n      <td>1266.000000</td>\n    </tr>\n    <tr>\n      <th>mean</th>\n      <td>34.229551</td>\n      <td>62.863950</td>\n      <td>42.755924</td>\n      <td>3.013428</td>\n      <td>0.180885</td>\n      <td>0.148499</td>\n      <td>0.218009</td>\n    </tr>\n    <tr>\n      <th>std</th>\n      <td>6.461478</td>\n      <td>6.905708</td>\n      <td>11.222918</td>\n      <td>1.467102</td>\n      <td>0.385075</td>\n      <td>0.355735</td>\n      <td>0.413057</td>\n    </tr>\n    <tr>\n      <th>min</th>\n      <td>12.266028</td>\n      <td>41.758718</td>\n      <td>9.100000</td>\n      <td>1.000000</td>\n      <td>0.000000</td>\n      <td>0.000000</td>\n      <td>0.000000</td>\n    </tr>\n    <tr>\n      <th>25%</th>\n      <td>30.061151</td>\n      <td>58.242364</td>\n      <td>35.500000</td>\n      <td>2.000000</td>\n      <td>0.000000</td>\n      <td>0.000000</td>\n      <td>0.000000</td>\n    </tr>\n    <tr>\n      <th>50%</th>\n      <td>34.381964</td>\n      <td>62.926657</td>\n      <td>42.900000</td>\n      <td>3.000000</td>\n      <td>0.000000</td>\n      <td>0.000000</td>\n      <td>0.000000</td>\n    </tr>\n    <tr>\n      <th>75%</th>\n      <td>38.577021</td>\n      <td>67.228628</td>\n      <td>50.500000</td>\n      <td>4.000000</td>\n      <td>0.000000</td>\n      <td>0.000000</td>\n      <td>0.000000</td>\n    </tr>\n    <tr>\n      <th>max</th>\n      <td>53.096264</td>\n      <td>87.582422</td>\n      <td>75.000000</td>\n      <td>11.000000</td>\n      <td>1.000000</td>\n      <td>1.000000</td>\n      <td>1.000000</td>\n    </tr>\n  </tbody>\n</table>\n</div>"
     },
     "execution_count": 97,
     "metadata": {},
     "output_type": "execute_result"
    }
   ],
   "source": [
    "# calculate mean, median, min, max, first quartile, third quartile for all numerical columns in df\n",
    "df.describe()"
   ],
   "metadata": {
    "collapsed": false,
    "pycharm": {
     "name": "#%%\n"
    }
   }
  },
  {
   "cell_type": "code",
   "execution_count": 98,
   "outputs": [
    {
     "data": {
      "text/plain": "Ttest_1sampResult(statistic=23.290525733651325, pvalue=1.942580429362319e-100)"
     },
     "execution_count": 98,
     "metadata": {},
     "output_type": "execute_result"
    }
   ],
   "source": [
    "# mean duration to delivery = 34.22955 minutes\n",
    "# H0: mu <= mu0 -> mean time to delivery <= 30 minutes\n",
    "# H1: mu > mu0 -> mean time to delivery > 30 minutes\n",
    "# one sample one-sided t-test\n",
    "stats.ttest_1samp(df['time'], 30, alternative='greater')\n",
    "# p-value = 0.0001 < 0.05 -> reject H0 -> mean time to delivery > 30 minutes"
   ],
   "metadata": {
    "collapsed": false,
    "pycharm": {
     "name": "#%%\n"
    }
   }
  },
  {
   "cell_type": "code",
   "execution_count": 99,
   "outputs": [
    {
     "data": {
      "text/plain": "Ttest_1sampResult(statistic=-11.005762229579862, pvalue=2.8670535095922214e-27)"
     },
     "execution_count": 99,
     "metadata": {},
     "output_type": "execute_result"
    }
   ],
   "source": [
    "# mean for temperature = 62.86 degrees\n",
    "# H0: mu >= mu0 -> mean temperature >= 65 degrees\n",
    "# H1: mu < mu0 -> mean temperature < 65 degrees\n",
    "# one sample one-sided t-test\n",
    "stats.ttest_1samp(df['temperature'], 65, alternative='less')\n",
    "# p-value = 0.0001 < 0.05 -> reject H0 -> mean temperature < 65 degrees"
   ],
   "metadata": {
    "collapsed": false,
    "pycharm": {
     "name": "#%%\n"
    }
   }
  }
 ],
 "metadata": {
  "kernelspec": {
   "display_name": "Python 3",
   "language": "python",
   "name": "python3"
  },
  "language_info": {
   "codemirror_mode": {
    "name": "ipython",
    "version": 2
   },
   "file_extension": ".py",
   "mimetype": "text/x-python",
   "name": "python",
   "nbconvert_exporter": "python",
   "pygments_lexer": "ipython2",
   "version": "2.7.6"
  }
 },
 "nbformat": 4,
 "nbformat_minor": 0
}